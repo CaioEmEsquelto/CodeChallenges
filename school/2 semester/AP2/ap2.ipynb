{
 "cells": [
  {
   "cell_type": "markdown",
   "metadata": {},
   "source": [
    "## Initial setup\n",
    "import json to make the prints more readable\n",
    "RA constant used when saving the data"
   ]
  },
  {
   "cell_type": "code",
   "execution_count": 7,
   "metadata": {},
   "outputs": [],
   "source": [
    "from json import dumps\n",
    "\n",
    "RA = \"2400540\""
   ]
  },
  {
   "cell_type": "code",
   "execution_count": 8,
   "metadata": {},
   "outputs": [],
   "source": [
    "def save_data(data:any, r_id:str):\n",
    "    with open(f\"{RA}_resp_{r_id}.txt\", \"w\") as write_file:\n",
    "        to_write = f\"[\\n    {\",\\n    \".join(data)}\\n]\"\n",
    "        write_file.write(to_write)"
   ]
  },
  {
   "cell_type": "code",
   "execution_count": 9,
   "metadata": {},
   "outputs": [],
   "source": [
    "def bin_search(g_info:dict, value:int, minmax:tuple=False) -> int:\n",
    "    # so the first call don't need to specify size of list\n",
    "    if minmax == False:\n",
    "        minmax = (0, len(g_info)-1)\n",
    "    \n",
    "    g_list = [g_info[g] for g in g_info]\n",
    "    s_list = [r for r in g_info]\n",
    "    min, max = minmax\n",
    "\n",
    "    mid = (min + max) // 2\n",
    "\n",
    "    if value == g_list[mid]:\n",
    "        return value, mid\n",
    "    \n",
    "    elif value > g_list[mid]:\n",
    "        return bin_search(s_list[mid], value, (mid, max))\n",
    "    \n",
    "    elif value < g_list[mid]:\n",
    "        return bin_search(s_list[mid], value, (min, mid))"
   ]
  },
  {
   "cell_type": "code",
   "execution_count": 10,
   "metadata": {},
   "outputs": [],
   "source": [
    "def quick_sort(g_info:dict) -> dict:\n",
    "\n",
    "    if len(g_info) <= 1:\n",
    "        return g_info\n",
    "\n",
    "    g_list = [g_info[g] for g in g_info]\n",
    "    s_list = [s for s in g_info]\n",
    "\n",
    "    pyvot_g = g_list[len(g_list)-1]\n",
    "    pyvot_s = s_list[len(g_list)-1]\n",
    "    \n",
    "    smaller = {}\n",
    "    smaller[pyvot_s] = pyvot_g\n",
    "\n",
    "    bigger = {}\n",
    "\n",
    "\n",
    "    i = 0\n",
    "    while i < len(g_list):\n",
    "\n",
    "        if pyvot_g > g_list[i]:\n",
    "            smaller[s_list[i]] = g_list[i]\n",
    "        \n",
    "        if pyvot_g < g_list[i]:\n",
    "            bigger[s_list[i]] = g_list[i]\n",
    "        \n",
    "        i+=1\n",
    "\n",
    "    return quick_sort(bigger) | quick_sort(smaller)"
   ]
  },
  {
   "cell_type": "markdown",
   "metadata": {},
   "source": [
    "Normalize data just add the grades for each student"
   ]
  },
  {
   "cell_type": "code",
   "execution_count": 11,
   "metadata": {},
   "outputs": [],
   "source": [
    "def normalize_data(g_info: dict) -> dict:\n",
    "    grade_sum_info = {}\n",
    "    for s in g_info:\n",
    "        grade_sum_info[s] = 0 # kinda ungly\n",
    "        for grade in g_info[s]:\n",
    "            try:\n",
    "                grade_sum_info[s] += grade\n",
    "            except: # it says that its required to do that CHECK\n",
    "                grade_sum_info[s] += int(grade)\n",
    "\n",
    "    return grade_sum_info"
   ]
  },
  {
   "cell_type": "markdown",
   "metadata": {},
   "source": [
    "All data compiled in one list, so it runs more easily in a for loop."
   ]
  },
  {
   "cell_type": "code",
   "execution_count": 12,
   "metadata": {},
   "outputs": [],
   "source": [
    "s_info_list = [{\n",
    "        '000': [65, 68, 1, 50, 34, 88],\n",
    "        '001': [100, 11, 54, 45, 96, 6],\n",
    "        '002': [56, '13', 1, 7, 19, 20],\n",
    "        '003': [22, 9, 22, 87, 44, 65],\n",
    "        '004': [98, 76, 24, 56, '54', 43],\n",
    "        '005': [18, 73, 95, 29, 31, 8],\n",
    "        '006': [94, '78', 14, 72, 46, 29],\n",
    "        '007': [50, 96, 71, 53, 83, 100],\n",
    "        '008': [83, 28, 19, 25, 4, 82],\n",
    "        '009': [9, 67, 65, 90, 6, 8]\n",
    "        },\n",
    "        {\n",
    "        '000': [99, 54, 76, 7, 46, 79],\n",
    "        '001': [61, 92, 58, 92, 29, '8'],\n",
    "        '002': [66, 12, 38, 12, 37, 28],\n",
    "        '003': [19, 57, 31, 36, 74, 34],\n",
    "        '004': [72, 32, 81, 9, '15', 72],\n",
    "        '005': [22, 50, 95, 67, 23, 32],\n",
    "        '006': [12, 1, 51, 12, 1, 64],\n",
    "        '007': [82, 23, 30, '29', 32, 74],\n",
    "        '008': [78, 31, 52, 68, 57, 1],\n",
    "        '009': ['46', 19, 98, 22, 92, 33],\n",
    "        '010': [20, 70, 30, '88', 37, 78],\n",
    "        '011': [12, 65, 45, 17, 35, '73'],\n",
    "        '012': [86, 57, 82, 26, 36, '95'],\n",
    "        '013': [32, 91, 67, 82, '21', 28],\n",
    "        '014': [33, '37', 12, 90, 25, 97],\n",
    "        '015': [3, 82, '79', 70, 30, 43],\n",
    "        '016': [19, 65, 84, 76, '72', 17],\n",
    "        '017': [65, 61, 96, 42, 54, 49],\n",
    "        '018': [12, 39, 51, 83, 68, '96'],\n",
    "        '019': [26, 10, 33, 54, 36, 30]\n",
    "        }\n",
    "          ]"
   ]
  },
  {
   "cell_type": "code",
   "execution_count": null,
   "metadata": {},
   "outputs": [],
   "source": [
    "\n",
    "for s_info in s_info_list:\n",
    "    g_info = normalize_data(s_info)\n",
    "    q_sort = quick_sort(g_info)\n",
    "    bin_s = bin_search(q_sort, 306)\n",
    "\n",
    "    q_sort_s_list = [s for s in q_sort]\n",
    "\n",
    "    save_data(q_sort, RA)"
   ]
  }
 ],
 "metadata": {
  "kernelspec": {
   "display_name": "Python 3",
   "language": "python",
   "name": "python3"
  },
  "language_info": {
   "codemirror_mode": {
    "name": "ipython",
    "version": 3
   },
   "file_extension": ".py",
   "mimetype": "text/x-python",
   "name": "python",
   "nbconvert_exporter": "python",
   "pygments_lexer": "ipython3",
   "version": "3.12.4"
  }
 },
 "nbformat": 4,
 "nbformat_minor": 2
}
